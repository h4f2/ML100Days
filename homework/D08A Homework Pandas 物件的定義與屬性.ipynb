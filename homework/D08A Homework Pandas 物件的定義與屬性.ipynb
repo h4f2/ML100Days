{
 "cells": [
  {
   "cell_type": "markdown",
   "metadata": {
    "id": "9qndwAG5UAKi"
   },
   "source": [
    "作業目標<br>\r\n",
    "在一個陣列中放入多屬性陣列，進一步對陣列做運算<br>\r\n",
    "作業重點<br>\r\n",
    "在建立結構化陣列前需要先設定屬性，在做運算時須注意資料屬性"
   ]
  },
  {
   "cell_type": "markdown",
   "metadata": {
    "id": "48DhzHvBUB2c"
   },
   "source": [
    "題目:<br>\r\n",
    "name_list = ['小明','小華','小菁','小美','小張','John','Mark','Tom']<br>\r\n",
    "sex_list = ['boy','boy','girl','girl','boy','boy','boy','boy']<br>\r\n",
    "weight_list = [67.5,75.3,50.1,45.5,80.8,90.4,78.4,70.7]<br>\r\n",
    "rank_list = [8,1,5,4,7,6,2,3]<br>\r\n",
    "myopia_list = [True,True,False,False,True,True,False,False]<br>\r\n",
    "1. 將上列list依照['name', 'sex', 'weight', 'rank', 'myopia']順序擺入array，並且資料型態順序擺入[Unicode,Unicode,float,int,boolean]<br>\r\n",
    "2. 呈上題，將array中體重(weight)數據集取出算出全部平均體重\r\n",
    "3. 呈上題，進一步算出男生(sex欄位是boy)平均體重、女生(sex欄位是girl)平均體重\r\n"
   ]
  },
  {
   "cell_type": "code",
   "execution_count": 1,
   "metadata": {
    "id": "5n4rAx-9VgVr"
   },
   "outputs": [],
   "source": [
    "import numpy as np "
   ]
  },
  {
   "cell_type": "code",
   "execution_count": 2,
   "metadata": {
    "id": "Vl-wSYQdUBcw"
   },
   "outputs": [],
   "source": [
    "name_list = ['小明','小華','小菁','小美','小張','John','Mark','Tom']\r\n",
    "sex_list = ['boy','boy','girl','girl','boy','boy','boy','boy']\r\n",
    "weight_list = [67.5,75.3,50.1,45.5,80.8,90.4,78.4,70.7]\r\n",
    "rank_list = [8,1,5,4,7,6,2,3]\r\n",
    "myopia_list = [True,True,False,False,True,True,False,False]"
   ]
  },
  {
   "cell_type": "code",
   "execution_count": 3,
   "metadata": {
    "id": "ElavkYgwVftG"
   },
   "outputs": [
    {
     "name": "stdout",
     "output_type": "stream",
     "text": [
      "[('小明', 'boy', 67.5, 8, 1) ('小華', 'boy', 75.3, 1, 1)\n",
      " ('小菁', 'girl', 50.1, 5, 0) ('小美', 'girl', 45.5, 4, 0)\n",
      " ('小張', 'boy', 80.8, 7, 1) ('John', 'boy', 90.4, 6, 1)\n",
      " ('Mark', 'boy', 78.4, 2, 0) ('Tom', 'boy', 70.7, 3, 0)]\n"
     ]
    }
   ],
   "source": [
    "#1. 將上列list依照['name', 'sex', 'weight', 'rank', 'myopia']順序擺入array，並且資料型態順序擺入[Unicode,Unicode,float,int,boolean]\n",
    "tag = ['name', 'sex', 'weight', 'rank', 'myopia']\n",
    "dtype = ['U20','U20','f2','i1','b']\n",
    "data_type = np.dtype([(i,j) for i,j in zip(tag,dtype)]) \n",
    "data=np.array([(a,b,c,d,e) for a,b,c,d,e in zip(name_list,sex_list,weight_list,rank_list,myopia_list)],dtype=data_type)\n",
    "print(data)"
   ]
  },
  {
   "cell_type": "code",
   "execution_count": 4,
   "metadata": {
    "id": "N-xffNSVWbP1"
   },
   "outputs": [
    {
     "name": "stdout",
     "output_type": "stream",
     "text": [
      "69.8\n"
     ]
    }
   ],
   "source": [
    "#2. 呈上題，將array中體重(weight)數據集取出算出全部平均體重\n",
    "print(data['weight'].mean())"
   ]
  },
  {
   "cell_type": "code",
   "execution_count": 5,
   "metadata": {
    "id": "_LhLg8RiWwEm"
   },
   "outputs": [
    {
     "name": "stdout",
     "output_type": "stream",
     "text": [
      "77.2\n"
     ]
    }
   ],
   "source": [
    "#3. 呈上題，進一步算出男生(sex欄位是boy)平均體重\n",
    "print(data[data['sex']=='boy']['weight'].mean())"
   ]
  },
  {
   "cell_type": "code",
   "execution_count": 6,
   "metadata": {
    "id": "f_J05IPxX6fg"
   },
   "outputs": [
    {
     "name": "stdout",
     "output_type": "stream",
     "text": [
      "47.8\n"
     ]
    }
   ],
   "source": [
    "#3. 呈上題，進一步算出女生(sex欄位是girl)平均體重\n",
    "print(data[data['sex']=='girl']['weight'].mean())"
   ]
  }
 ],
 "metadata": {
  "colab": {
   "authorship_tag": "ABX9TyNgR7Bv7joIZkErlgUY/y+3",
   "collapsed_sections": [],
   "name": "作業_Hong題目.ipynb",
   "provenance": []
  },
  "kernelspec": {
   "display_name": "Python 3",
   "language": "python",
   "name": "python3"
  },
  "language_info": {
   "codemirror_mode": {
    "name": "ipython",
    "version": 3
   },
   "file_extension": ".py",
   "mimetype": "text/x-python",
   "name": "python",
   "nbconvert_exporter": "python",
   "pygments_lexer": "ipython3",
   "version": "3.8.3"
  }
 },
 "nbformat": 4,
 "nbformat_minor": 4
}
