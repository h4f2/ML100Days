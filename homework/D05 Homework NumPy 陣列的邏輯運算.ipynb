{
 "cells": [
  {
   "cell_type": "markdown",
   "metadata": {},
   "source": [
    "<font color=red size=10 >D05 NumPy 陣列的邏輯運算 Homework</font>"
   ]
  },
  {
   "cell_type": "code",
   "execution_count": 1,
   "metadata": {},
   "outputs": [],
   "source": [
    "import numpy as np"
   ]
  },
  {
   "cell_type": "code",
   "execution_count": 2,
   "metadata": {},
   "outputs": [
    {
     "name": "stdout",
     "output_type": "stream",
     "text": [
      "[ 1  2 -3 -4 -5 -6  7  8  9 10 11]\n",
      "[ 1  2 -3 -4 -5 -6  7  8  9 10 11]\n"
     ]
    }
   ],
   "source": [
    "# 產生一個 1-11 的一維陣列，並且把 3-6 由正數變成負數。\n",
    "arr=np.array([i if i < 3 or i > 6 else -i for i in range(1,12)])\n",
    "print(arr)\n",
    "\n",
    "arr=np.array(range(1,12))\n",
    "arr[2:6]=-arr[2:6]\n",
    "print(arr)\n"
   ]
  },
  {
   "cell_type": "code",
   "execution_count": 3,
   "metadata": {},
   "outputs": [
    {
     "name": "stdout",
     "output_type": "stream",
     "text": [
      "[[0.09762157 0.36140514 0.99793609 0.37623992 0.69895856 0.73519232]\n",
      " [0.8839689  0.11561868 0.75960718 0.75415494 0.05676925 0.19237139]\n",
      " [0.16052742 0.38616946 0.01213061 0.51305377 0.37343214 0.13130488]]\n",
      "7\n"
     ]
    }
   ],
   "source": [
    "# 試著從一個隨機陣列中，找出比 0.5 大的數有幾個？\n",
    "a = np.random.rand(3, 6)\n",
    "\n",
    "print(a)\n",
    "print(len(a[a[:]>0.5]))"
   ]
  }
 ],
 "metadata": {
  "kernelspec": {
   "display_name": "Python 3",
   "language": "python",
   "name": "python3"
  },
  "language_info": {
   "codemirror_mode": {
    "name": "ipython",
    "version": 3
   },
   "file_extension": ".py",
   "mimetype": "text/x-python",
   "name": "python",
   "nbconvert_exporter": "python",
   "pygments_lexer": "ipython3",
   "version": "3.8.3"
  }
 },
 "nbformat": 4,
 "nbformat_minor": 4
}
