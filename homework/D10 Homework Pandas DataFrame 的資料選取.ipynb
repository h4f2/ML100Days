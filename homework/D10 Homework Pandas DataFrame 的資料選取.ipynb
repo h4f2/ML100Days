{
 "cells": [
  {
   "cell_type": "markdown",
   "metadata": {
    "colab_type": "text",
    "id": "P6xk2_jLsvFF"
   },
   "source": [
    "# [作業目標]\n",
    "\n",
    "1. [簡答題] 請問下列四種不同的 DataFrame 選取結果有什麼差異？\n",
    "\n",
    "```\n",
    "df.loc[ '2013-01-01', 'A'] \n",
    "df.loc[ '2013-01-01', ['A', 'B'] ] \n",
    "df.loc[ '2013-01-01':'2013-01-02', 'A' ] \n",
    "df.loc[ '2013-01-01':'2013-01-05', 'A':'C'] \n",
    "```\n",
    "\n",
    "\n",
    "2. 請根據提供的資料，選擇出下列的要求：\n",
    "\n",
    "```\n",
    "# - select the first 3 rows.\n",
    "# - select the odd rows. (index = 1, 3, 5)\n",
    "# - select the last 2 columns.\n",
    "# - select the even columns. (index = 0, 2, 4)\n",
    "```\n",
    "\n",
    "3. 請根據提供的資料，選擇出下列的要求：\n",
    "\n",
    "```\n",
    "# - 1. filtered by first column > 20?\n",
    "# - 2. filtered by first column + second column > 50\n",
    "# - 3. filtered by first column < 30 or second column > 30\n",
    "# - 4. filtered by total sum of row > 100\n",
    "```"
   ]
  },
  {
   "cell_type": "markdown",
   "metadata": {
    "colab_type": "text",
    "id": "uXGll28asvFS"
   },
   "source": [
    "# 作業 "
   ]
  },
  {
   "cell_type": "markdown",
   "metadata": {},
   "source": [
    "### 1. [簡答題] 請問下列四種不同的 DataFrame 選取結果有什麼差異？\n",
    "\n",
    "```\n",
    "df.loc[ '2013-01-01', 'A'] \n",
    "df.loc[ '2013-01-01', ['A', 'B'] ] \n",
    "df.loc[ '2013-01-01':'2013-01-02', 'A' ] \n",
    "df.loc[ '2013-01-01':'2013-01-05', 'A':'C'] \n",
    "```\n",
    "\n",
    "\n",
    "\n"
   ]
  },
  {
   "cell_type": "code",
   "execution_count": 1,
   "metadata": {
    "colab": {},
    "colab_type": "code",
    "id": "5QrYoyNWsvFS"
   },
   "outputs": [],
   "source": [
    "# 回傳A欄中索引為 2013-01-01 的值\n",
    "# 回傳A欄與B欄中索引為 2013-01-01 的值\n",
    "# 回傳A欄中索引為2013-01-01 到 2013-01-02的值\n",
    "# 回傳A欄到C欄中索引為2013-01-01 到 2013-01-05的值"
   ]
  },
  {
   "cell_type": "markdown",
   "metadata": {},
   "source": [
    "### 2. 請根據提供的資料，選擇出下列的要求：\n",
    "\n",
    "```\n",
    "# - select the first 3 rows.\n",
    "# - select the odd rows. (index = 1, 3, 5)\n",
    "# - select the last 2 columns.\n",
    "# - select the even columns. (index = 0, 2, 4)\n",
    "```\n"
   ]
  },
  {
   "cell_type": "code",
   "execution_count": 2,
   "metadata": {},
   "outputs": [],
   "source": [
    "import numpy as np\n",
    "import pandas as pd"
   ]
  },
  {
   "cell_type": "code",
   "execution_count": 3,
   "metadata": {
    "colab": {},
    "colab_type": "code",
    "id": "e1gVI0tvsvFY"
   },
   "outputs": [
    {
     "name": "stdout",
     "output_type": "stream",
     "text": [
      "       col1      col2      col3\n",
      "0 -0.284940  0.219520  0.108913\n",
      "1  0.179733 -1.755907 -0.237032\n",
      "2 -1.331093 -1.342136  1.339317\n",
      "3  0.380270  0.510951 -1.084430\n",
      "4 -0.074517 -0.842495  0.319638\n",
      "5 -2.540458 -0.542994  1.753324\n"
     ]
    }
   ],
   "source": [
    "df = pd.DataFrame(np.random.randn(6,3),columns=['col1','col2','col3'])\n",
    "print(df)"
   ]
  },
  {
   "cell_type": "code",
   "execution_count": 4,
   "metadata": {},
   "outputs": [
    {
     "name": "stdout",
     "output_type": "stream",
     "text": [
      "       col1      col2      col3\n",
      "0 -0.284940  0.219520  0.108913\n",
      "1  0.179733 -1.755907 -0.237032\n",
      "2 -1.331093 -1.342136  1.339317\n",
      "       col1      col2      col3\n",
      "1  0.179733 -1.755907 -0.237032\n",
      "3  0.380270  0.510951 -1.084430\n",
      "5 -2.540458 -0.542994  1.753324\n",
      "       col1      col2      col3\n",
      "4 -0.074517 -0.842495  0.319638\n",
      "5 -2.540458 -0.542994  1.753324\n",
      "       col1      col2      col3\n",
      "0 -0.284940  0.219520  0.108913\n",
      "2 -1.331093 -1.342136  1.339317\n",
      "4 -0.074517 -0.842495  0.319638\n"
     ]
    }
   ],
   "source": [
    "# - select the first 3 rows.\n",
    "print(df.iloc[:3])\n",
    "\n",
    "# - select the odd rows. (index = 1, 3, 5)\n",
    "print(df.iloc[1::2])\n",
    "\n",
    "# - select the last 2 columns.\n",
    "print(df.iloc[-2:])\n",
    "\n",
    "# - select the even columns. (index = 0, 2, 4)\n",
    "print(df.iloc[::2])"
   ]
  },
  {
   "cell_type": "markdown",
   "metadata": {},
   "source": [
    "### 3. 請根據提供的資料，選擇出下列的要求：\n",
    "\n",
    "```\n",
    "# - 1. filtered by first column > 20?\n",
    "# - 2. filtered by first column + second column > 50\n",
    "# - 3. filtered by first column < 30 or second column > 30\n",
    "# - 4. filtered by total sum of row > 100\n",
    "```"
   ]
  },
  {
   "cell_type": "code",
   "execution_count": 5,
   "metadata": {},
   "outputs": [
    {
     "name": "stdout",
     "output_type": "stream",
     "text": [
      "     0   1   2   3\n",
      "0   13  25  34  37\n",
      "1   36  18  10  13\n",
      "2   34  16  15  23\n",
      "3   30  32  20  30\n",
      "4   25  36  24  22\n",
      "5   13  24  14  33\n",
      "6   10  20  23  20\n",
      "7   20  35  13  23\n",
      "8   19  23  17  14\n",
      "9   26  13  23  11\n",
      "10  39  16  23  26\n",
      "11  36  10  16  30\n",
      "12  26  32  33  37\n",
      "13  16  28  30  24\n",
      "14  14  21  22  19\n"
     ]
    }
   ],
   "source": [
    "df = pd.DataFrame(np.random.randint(10, 40, 60).reshape(-1, 4))\n",
    "print(df)"
   ]
  },
  {
   "cell_type": "code",
   "execution_count": 6,
   "metadata": {},
   "outputs": [
    {
     "name": "stdout",
     "output_type": "stream",
     "text": [
      "     0   1   2   3\n",
      "1   36  18  10  13\n",
      "2   34  16  15  23\n",
      "3   30  32  20  30\n",
      "4   25  36  24  22\n",
      "9   26  13  23  11\n",
      "10  39  16  23  26\n",
      "11  36  10  16  30\n",
      "12  26  32  33  37\n",
      "     0   1   2   3\n",
      "1   36  18  10  13\n",
      "3   30  32  20  30\n",
      "4   25  36  24  22\n",
      "7   20  35  13  23\n",
      "10  39  16  23  26\n",
      "12  26  32  33  37\n",
      "     0   1   2   3\n",
      "4   25  36  24  22\n",
      "7   20  35  13  23\n",
      "12  26  32  33  37\n",
      "     0   1   2   3\n",
      "0   13  25  34  37\n",
      "3   30  32  20  30\n",
      "4   25  36  24  22\n",
      "10  39  16  23  26\n",
      "12  26  32  33  37\n"
     ]
    }
   ],
   "source": [
    "# - 1. filtered by first column > 20?\n",
    "print(df[df[0]>20])\n",
    "\n",
    "# - 2. filtered by first column + second column > 50\n",
    "print(df[(df[0]+df[1])>50])\n",
    "\n",
    "# - 3. filtered by first column < 30 or second column > 30\n",
    "print(df[(df[0]<30) & (df[1]>30)])\n",
    "\n",
    "# - 4. filtered by total sum of row > 100\n",
    "print(df[df.sum(axis=1)>100])\n"
   ]
  }
 ],
 "metadata": {
  "colab": {
   "name": "Day_023_HW.ipynb",
   "provenance": []
  },
  "kernelspec": {
   "display_name": "Python 3",
   "language": "python",
   "name": "python3"
  },
  "language_info": {
   "codemirror_mode": {
    "name": "ipython",
    "version": 3
   },
   "file_extension": ".py",
   "mimetype": "text/x-python",
   "name": "python",
   "nbconvert_exporter": "python",
   "pygments_lexer": "ipython3",
   "version": "3.8.3"
  }
 },
 "nbformat": 4,
 "nbformat_minor": 4
}
