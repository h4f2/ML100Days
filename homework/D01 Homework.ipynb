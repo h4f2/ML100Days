{
 "cells": [
  {
   "cell_type": "markdown",
   "metadata": {},
   "source": [
    "<font color=red size=10 >D01 Numpy 陣列的定義與屬性 Homework</font>"
   ]
  },
  {
   "cell_type": "code",
   "execution_count": 1,
   "metadata": {},
   "outputs": [],
   "source": [
    "import numpy as np"
   ]
  },
  {
   "cell_type": "code",
   "execution_count": 2,
   "metadata": {},
   "outputs": [
    {
     "name": "stdout",
     "output_type": "stream",
     "text": [
      "[ 0  1  2  3  4  5  6  7  8  9 10 11 12 13 14 15 16 17 18 19 20]\n"
     ]
    }
   ],
   "source": [
    "# 生成一個等差數列，首數為0，尾數為20，公差為1的數列。\n",
    "arr=np.arange(21)\n",
    "print(arr)"
   ]
  },
  {
   "cell_type": "code",
   "execution_count": 3,
   "metadata": {},
   "outputs": [
    {
     "name": "stdout",
     "output_type": "stream",
     "text": [
      "[ 0  2  4  6  8 10 12 14 16 18 20]\n"
     ]
    }
   ],
   "source": [
    "# 呈上題，將以上數列取出偶數。\n",
    "arr_2=arr[::2]\n",
    "print(arr_2)"
   ]
  },
  {
   "cell_type": "code",
   "execution_count": 4,
   "metadata": {},
   "outputs": [
    {
     "name": "stdout",
     "output_type": "stream",
     "text": [
      "[ 0  3  6  9 12 15 18]\n"
     ]
    }
   ],
   "source": [
    "# 呈1題，將數列取出3的倍數。\n",
    "arr_3=arr[::3]\n",
    "print(arr_3)"
   ]
  },
  {
   "cell_type": "code",
   "execution_count": 5,
   "metadata": {},
   "outputs": [],
   "source": [
    "# [簡答題] 請問下列兩種將 Array 轉換成 List 的方式有何不同？\n",
    "# print('list(a): ', list(a))\n",
    "# print('tolist(): ', a.tolist())\n",
    "\n",
    "# '''Answer\n",
    "# list()只會將最外層的元素轉換成列表\n",
    "# tolist()則會將多維的陣列架構轉換為多維的列表\n",
    "\n",
    "# '''"
   ]
  },
  {
   "cell_type": "code",
   "execution_count": 6,
   "metadata": {},
   "outputs": [
    {
     "name": "stdout",
     "output_type": "stream",
     "text": [
      "1\n",
      "(6,)\n",
      "6\n",
      "int32\n",
      "4\n",
      "6\n",
      "<class 'numpy.ndarray'>\n",
      "\n",
      "\n",
      "2\n",
      "(3, 4)\n",
      "12\n",
      "int32\n",
      "4\n",
      "3\n",
      "<class 'numpy.ndarray'>\n",
      "\n",
      "\n",
      "3\n",
      "(2, 3, 2)\n",
      "12\n",
      "int32\n",
      "4\n",
      "2\n",
      "<class 'numpy.ndarray'>\n",
      "\n",
      "\n"
     ]
    }
   ],
   "source": [
    "# 請試著在程式中印出以下三個 NdArray 的屬性並且解釋結果？（屬性：ndim、shape、size、dtype、itemsize、length、type）\n",
    "# a = np.random.randint(10, size=6) \n",
    "# b = np.random.randint(10, size=(3,4)) \n",
    "# c = np.random.randint(10, size=(2,3,2)) \n",
    "\n",
    "a = np.random.randint(10, size=6) \n",
    "b = np.random.randint(10, size=(3,4)) \n",
    "c = np.random.randint(10, size=(2,3,2)) \n",
    "\n",
    "for i in [a,b,c]:\n",
    "    print(i.ndim,i.shape,i.size,i.dtype,i.itemsize,len(i),type(i),sep='\\n',end='\\n'*3)\n",
    "\n",
    "# '''Answer\n",
    "# 屬性ndim為陣列的維度數量\n",
    "# 屬性shape為陣列內各個維度的大小\n",
    "# 屬性size為陣列內元素的總數列，即屬性shape內元素的乘積\n",
    "# 屬性dtype為陣列內元素的資料型態\n",
    "# 屬性itemsize為陣列中每個元素佔用的空間,即陣列記憶體空間位元組的長度\n",
    "# length為函式len所回傳的陣列的元素個數,只計算最外層的元素\n",
    "# type為函式type所回傳的陣列的資料型態,即為類別numpy.ndarray\n",
    "\n",
    "# '''"
   ]
  },
  {
   "cell_type": "code",
   "execution_count": 7,
   "metadata": {},
   "outputs": [
    {
     "name": "stdout",
     "output_type": "stream",
     "text": [
      "[4, 9, 3, 0, 8, 2]\n",
      "[4, 9, 3, 0, 8, 2]\n",
      "[[7, 9, 3, 9], [7, 6, 1, 7], [7, 3, 2, 7]]\n",
      "[[7, 9, 3, 9], [7, 6, 1, 7], [7, 3, 2, 7]]\n",
      "[[[6, 1], [0, 3], [2, 3]], [[9, 7], [1, 6], [2, 5]]]\n",
      "[[[6, 1], [0, 3], [2, 3]], [[9, 7], [1, 6], [2, 5]]]\n"
     ]
    }
   ],
   "source": [
    "# 如何利用 list(...) 實現 a.tolist() 的效果？試著用程式實作。\n",
    "a = np.random.randint(10, size=6) \n",
    "b = np.random.randint(10, size=(3,4)) \n",
    "c = np.random.randint(10, size=(2,3,2)) \n",
    "\n",
    "tolist_ = lambda arr: list(map(tolist_, arr)) if isinstance(arr, np.ndarray) else arr\n",
    "\n",
    "for i in [a,b,c]:\n",
    "    print(list(tolist_(i)))\n",
    "    print(i.tolist())"
   ]
  }
 ],
 "metadata": {
  "kernelspec": {
   "display_name": "Python 3",
   "language": "python",
   "name": "python3"
  },
  "language_info": {
   "codemirror_mode": {
    "name": "ipython",
    "version": 3
   },
   "file_extension": ".py",
   "mimetype": "text/x-python",
   "name": "python",
   "nbconvert_exporter": "python",
   "pygments_lexer": "ipython3",
   "version": "3.8.3"
  }
 },
 "nbformat": 4,
 "nbformat_minor": 4
}
