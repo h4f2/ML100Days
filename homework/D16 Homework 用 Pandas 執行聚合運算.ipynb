{
 "cells": [
  {
   "cell_type": "markdown",
   "metadata": {
    "id": "WpY62-EDcs8F"
   },
   "source": [
    "作業目標:<br>\r\n",
    "1. 熟悉分組計算"
   ]
  },
  {
   "cell_type": "markdown",
   "metadata": {
    "id": "pXYQs1_9a6He"
   },
   "source": [
    "作業重點: <br>\r\n",
    "1. 分組計算也可以加入apply自定義的函數"
   ]
  },
  {
   "cell_type": "markdown",
   "metadata": {
    "id": "vysasgqxcupS"
   },
   "source": [
    "題目 : 運用下列分數資料分析<br>\r\n",
    "1. 找出全年級各科成績最高分與最低分?<br>\r\n",
    "2. 找出數學班平均最高的班級?<br>\r\n",
    "3. 分析全校女生與男生國文平均差幾分?<br>\r\n",
    "score_df = pd.DataFrame([[1,50,80,70,'boy',1],[2,60,45,50,'boy',2],[3,98,43,55,'boy',1],[4,70,69,89,'boy',2],[5,56,79,60,'girl',1],[6,60,68,55,'girl',2],[7,45,70,77,'girl',1],[8,55,77,76,'girl',2],[9,25,57,60,'girl',1],[10,88,40,43,'girl',3],[11,25,60,45,'boy',3],[12,80,60,23,'boy',3],[13,20,90,66,'girl',3],[14,50,50,50,'girl',3],[15,89,67,77,'girl',3]],columns=['student_id','math_score','english_score','chinese_score','sex','class'])"
   ]
  },
  {
   "cell_type": "code",
   "execution_count": 2,
   "metadata": {},
   "outputs": [
    {
     "name": "stdout",
     "output_type": "stream",
     "text": [
      "    student_id  math_score  english_score  chinese_score   sex  class\n",
      "0            1          50             80             70   boy      1\n",
      "1            2          60             45             50   boy      2\n",
      "2            3          98             43             55   boy      1\n",
      "3            4          70             69             89   boy      2\n",
      "4            5          56             79             60  girl      1\n",
      "5            6          60             68             55  girl      2\n",
      "6            7          45             70             77  girl      1\n",
      "7            8          55             77             76  girl      2\n",
      "8            9          25             57             60  girl      1\n",
      "9           10          88             40             43  girl      3\n",
      "10          11          25             60             45   boy      3\n",
      "11          12          80             60             23   boy      3\n",
      "12          13          20             90             66  girl      3\n",
      "13          14          50             50             50  girl      3\n",
      "14          15          89             67             77  girl      3\n"
     ]
    }
   ],
   "source": [
    "import pandas as pd\n",
    "score_df = pd.DataFrame([[1,50,80,70,'boy',1], \n",
    "              [2,60,45,50,'boy',2],\n",
    "              [3,98,43,55,'boy',1],\n",
    "              [4,70,69,89,'boy',2],\n",
    "              [5,56,79,60,'girl',1],\n",
    "              [6,60,68,55,'girl',2],\n",
    "              [7,45,70,77,'girl',1],\n",
    "              [8,55,77,76,'girl',2],\n",
    "              [9,25,57,60,'girl',1],\n",
    "              [10,88,40,43,'girl',3],\n",
    "              [11,25,60,45,'boy',3],\n",
    "              [12,80,60,23,'boy',3],\n",
    "              [13,20,90,66,'girl',3],\n",
    "              [14,50,50,50,'girl',3],\n",
    "              [15,89,67,77,'girl',3]],columns=['student_id','math_score','english_score','chinese_score','sex','class'])\n",
    "print(score_df)"
   ]
  },
  {
   "cell_type": "code",
   "execution_count": 11,
   "metadata": {
    "id": "Zfs1uSNPfNBL"
   },
   "outputs": [
    {
     "name": "stdout",
     "output_type": "stream",
     "text": [
      "math_score's\t maximum is 98, minimum is 20\n",
      "english_score's\t maximum is 90, minimum is 40\n",
      "chinese_score's\t maximum is 89, minimum is 23\n"
     ]
    }
   ],
   "source": [
    "#1.找出全年級各科成績最高分與最低分?\n",
    "for i in score_df.columns[:]:\n",
    "    if 'score' in i:\n",
    "        print(f'{i}\\'s\\t maximum is {score_df[i].max()}, minimum is {score_df[i].min()}')"
   ]
  },
  {
   "cell_type": "code",
   "execution_count": 29,
   "metadata": {
    "id": "iZdLLEzYfPnW"
   },
   "outputs": [
    {
     "name": "stdout",
     "output_type": "stream",
     "text": [
      "Class 2 has the highest mean math score is 61.25\n"
     ]
    }
   ],
   "source": [
    "#2.找出數學班平均最高的班級?\n",
    "m_s_byclass=score_df.groupby('class')['math_score'].mean()\n",
    "print(f'Class {mean_math_score.idxmax()} has the highest mean math score is {mean_math_score.max()}')\n"
   ]
  },
  {
   "cell_type": "code",
   "execution_count": 30,
   "metadata": {
    "id": "CWxb-2TqfbNK"
   },
   "outputs": [
    {
     "data": {
      "text/plain": [
       "sex\n",
       "boy     55.333333\n",
       "girl    62.666667\n",
       "Name: chinese_score, dtype: float64"
      ]
     },
     "execution_count": 30,
     "metadata": {},
     "output_type": "execute_result"
    }
   ],
   "source": [
    "#3.分析全校女生與男生國文平均差幾分?\n",
    "\n",
    "mean_c_s_bysex=score_df.groupby('sex')['chinese_score'].mean()\n"
   ]
  },
  {
   "cell_type": "code",
   "execution_count": null,
   "metadata": {
    "id": "aBC5K-q6jFvb"
   },
   "outputs": [],
   "source": []
  }
 ],
 "metadata": {
  "colab": {
   "collapsed_sections": [],
   "name": "作業題目.ipynb",
   "provenance": []
  },
  "kernelspec": {
   "display_name": "Python 3",
   "language": "python",
   "name": "python3"
  },
  "language_info": {
   "codemirror_mode": {
    "name": "ipython",
    "version": 3
   },
   "file_extension": ".py",
   "mimetype": "text/x-python",
   "name": "python",
   "nbconvert_exporter": "python",
   "pygments_lexer": "ipython3",
   "version": "3.8.3"
  }
 },
 "nbformat": 4,
 "nbformat_minor": 4
}
