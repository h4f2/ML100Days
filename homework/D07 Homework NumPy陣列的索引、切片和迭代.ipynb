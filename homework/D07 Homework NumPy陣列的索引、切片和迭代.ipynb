{
 "cells": [
  {
   "cell_type": "markdown",
   "metadata": {},
   "source": [
    "<font color=red size=10 >D07 NumPy 陣列的索引、切片和迭代 Homework</font>"
   ]
  },
  {
   "cell_type": "code",
   "execution_count": 1,
   "metadata": {},
   "outputs": [],
   "source": [
    "import numpy as np"
   ]
  },
  {
   "cell_type": "code",
   "execution_count": 2,
   "metadata": {},
   "outputs": [],
   "source": [
    "# 請比較對一個 1000 x 100 x 100 的陣列，使用不同方法對每一個元素 +1 的時間比較。\n",
    "Z = np.random.randint(0, 10, 1000000).reshape(100, 100, 100)"
   ]
  },
  {
   "cell_type": "code",
   "execution_count": 3,
   "metadata": {},
   "outputs": [
    {
     "name": "stdout",
     "output_type": "stream",
     "text": [
      "18.4 ns ± 1.05 ns per loop (mean ± std. dev. of 7 runs, 100 loops each)\n"
     ]
    }
   ],
   "source": [
    "#直接運算\n",
    "%timeit -n 100 a = 2\n",
    "\n",
    "Z+=1"
   ]
  },
  {
   "cell_type": "code",
   "execution_count": 4,
   "metadata": {},
   "outputs": [
    {
     "name": "stdout",
     "output_type": "stream",
     "text": [
      "40 ns ± 17.7 ns per loop (mean ± std. dev. of 7 runs, 10 loops each)\n"
     ]
    }
   ],
   "source": [
    "#攤平運算後重新塑形\n",
    "%timeit -n 10 a = 2\n",
    "\n",
    "Z=(Z.flat+np.array([1])).reshape(100,100,100)"
   ]
  },
  {
   "cell_type": "code",
   "execution_count": 5,
   "metadata": {},
   "outputs": [
    {
     "name": "stdout",
     "output_type": "stream",
     "text": [
      "31.4 ns ± 8.33 ns per loop (mean ± std. dev. of 7 runs, 10 loops each)\n"
     ]
    }
   ],
   "source": [
    "#迭代物件運算後重新塑形\n",
    "%timeit -n 10 a = 2\n",
    "\n",
    "Z=np.array([i+1 for i in np.nditer(Z)]).reshape(100,100,100)"
   ]
  },
  {
   "cell_type": "code",
   "execution_count": 126,
   "metadata": {},
   "outputs": [
    {
     "name": "stdout",
     "output_type": "stream",
     "text": [
      "[5 5 6 6 6 8 1 0 5 6 8 7 7 6 9 5 8 9 8 3 4 9 3 6 6 7 1 5 7 0 5 7 4 5 4 0 3\n",
      " 3 5 7 2 2 7 0 7 9 1 2 1 4]\n",
      "內含元素:\t\t[0, 1, 2, 3, 4, 5, 6, 7, 8, 9]\n",
      "各元素出現次數:\t\t[4, 4, 3, 4, 4, 8, 7, 8, 4, 4]\n",
      "出現頻率最高的元素:\t[5, 7]\n",
      "出現頻率最高的元素位置:\t{5: [11, 12, 25, 28, 31, 39, 42, 44], 7: [11, 12, 25, 28, 31, 39, 42, 44]}\n"
     ]
    }
   ],
   "source": [
    "# 如何從一個陣列中，找出出現頻率最高的數值與位置？\n",
    "Z = np.random.randint(0,10,50)\n",
    "print(Z)\n",
    "ele_list=list(set(Z))\n",
    "ele_times=[np.where(Z==i)[0].size for i in ele_list]\n",
    "Z_max=[ele_list[i] for i in np.where(np.array(ele_times)==max(ele_times))[0]]\n",
    "Z_max_position=[np.where(Z==i)[0].tolist() for i in Z_max]\n",
    "dict_z_max={i:j for i in Z_max for j in Z_max_position}\n",
    "print(f'內含元素:\\t\\t{ele_list}\\n各元素出現次數:\\t\\t{ele_times}\\n出現頻率最高的元素:\\t{Z_max}\\n出現頻率最高的元素位置:\\t{dict_z_max}')\n",
    "\n",
    "\n",
    "# np.searchsorted(Z,Z.max())"
   ]
  },
  {
   "cell_type": "code",
   "execution_count": 115,
   "metadata": {},
   "outputs": [
    {
     "name": "stdout",
     "output_type": "stream",
     "text": [
      "{6: [3, 10, 14, 18, 19, 32, 34, 37, 40, 46]}\n"
     ]
    }
   ],
   "source": [
    "print()"
   ]
  },
  {
   "cell_type": "code",
   "execution_count": 7,
   "metadata": {},
   "outputs": [
    {
     "name": "stdout",
     "output_type": "stream",
     "text": [
      "[0, 4, 9, 2, 2, 6]\n",
      "[0, 4, 9, 2, 2, 6]\n",
      "[[8, 0, 0, 7], [8, 1, 0, 8], [8, 9, 1, 6]]\n",
      "[[8, 0, 0, 7], [8, 1, 0, 8], [8, 9, 1, 6]]\n",
      "[[[4, 9], [7, 3], [7, 0]], [[1, 6], [2, 3], [1, 7]]]\n",
      "[[[4, 9], [7, 3], [7, 0]], [[1, 6], [2, 3], [1, 7]]]\n"
     ]
    }
   ],
   "source": [
    "# 如何利用 list(...) 實現 a.tolist() 的效果？試著用程式實作。\n",
    "a = np.random.randint(10, size=6) \n",
    "b = np.random.randint(10, size=(3,4)) \n",
    "c = np.random.randint(10, size=(2,3,2)) \n",
    "\n",
    "tolist_ = lambda arr: list(map(tolist_, arr)) if isinstance(arr, np.ndarray) else arr\n",
    "\n",
    "for i in [a,b,c]:\n",
    "    print(list(tolist_(i)))\n",
    "    print(i.tolist())"
   ]
  }
 ],
 "metadata": {
  "kernelspec": {
   "display_name": "Python 3",
   "language": "python",
   "name": "python3"
  },
  "language_info": {
   "codemirror_mode": {
    "name": "ipython",
    "version": 3
   },
   "file_extension": ".py",
   "mimetype": "text/x-python",
   "name": "python",
   "nbconvert_exporter": "python",
   "pygments_lexer": "ipython3",
   "version": "3.8.3"
  }
 },
 "nbformat": 4,
 "nbformat_minor": 4
}
