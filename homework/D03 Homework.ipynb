{
 "cells": [
  {
   "cell_type": "markdown",
   "metadata": {},
   "source": [
    "<font color=red size=10 >D02 Numpy 陣列的初始化Homework</font>"
   ]
  },
  {
   "cell_type": "code",
   "execution_count": 1,
   "metadata": {},
   "outputs": [],
   "source": [
    "import numpy as np"
   ]
  },
  {
   "cell_type": "code",
   "execution_count": 2,
   "metadata": {},
   "outputs": [],
   "source": [
    "# [簡答題] 請比較 np.zeros 和 np.empty 產生出來的陣列有何差異？為什麼要設計兩種方法？\n",
    "\n",
    "# '''Answer\n",
    "# np.zeros()可以依照傳入的引數來建立特定大小且全為0的陣列。\n",
    "# np.empty()則是依照傳入的引數來建立特定大小且元素未初始化的陣列。\n",
    "\n",
    "# '''"
   ]
  },
  {
   "cell_type": "code",
   "execution_count": 5,
   "metadata": {},
   "outputs": [
    {
     "name": "stdout",
     "output_type": "stream",
     "text": [
      "[[ 1.70816679 36.96404508 22.0469942 ]\n",
      " [96.73941044 31.80666734 25.6560776 ]]\n",
      "[[ 2. 37. 22.]\n",
      " [97. 32. 26.]]\n"
     ]
    }
   ],
   "source": [
    "# 在不用「整數亂數方法」的限制下，如何將包含小數的轉換整數？請將給定的 a 陣列當中的元素變成去掉小數變成整數。\n",
    "a = np.random.rand(2, 3)*100\n",
    "a2=a.copy().round()\n",
    "\n",
    "print(a)\n",
    "print(a2)"
   ]
  },
  {
   "cell_type": "code",
   "execution_count": 15,
   "metadata": {},
   "outputs": [
    {
     "name": "stdout",
     "output_type": "stream",
     "text": [
      "[[21 39 30]\n",
      " [32 26 22]]\n",
      "[[34. 25. 37.]\n",
      " [36. 30. 23.]]\n"
     ]
    }
   ],
   "source": [
    "# 承上題，怎樣可以限制整數的範圍介於 m - n 之間？請將給定的 a 陣列當中的元素的範圍調整成 m - n 之間。\n",
    "m = 20\n",
    "n = 40\n",
    "\n",
    "from numpy.random import default_rng\n",
    "integers = default_rng().integers(m, n, size=(2,3))\n",
    "print(integers)\n",
    "\n",
    "# 在不用「整數亂數方法」的限制下\n",
    "\n",
    "a = np.random.rand(2, 3)\n",
    "print((a * (n - m)).round() + m)\n"
   ]
  }
 ],
 "metadata": {
  "kernelspec": {
   "display_name": "Python 3",
   "language": "python",
   "name": "python3"
  },
  "language_info": {
   "codemirror_mode": {
    "name": "ipython",
    "version": 3
   },
   "file_extension": ".py",
   "mimetype": "text/x-python",
   "name": "python",
   "nbconvert_exporter": "python",
   "pygments_lexer": "ipython3",
   "version": "3.8.3"
  }
 },
 "nbformat": 4,
 "nbformat_minor": 4
}
